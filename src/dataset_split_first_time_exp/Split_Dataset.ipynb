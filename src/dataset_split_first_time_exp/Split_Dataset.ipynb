{
 "cells": [
  {
   "cell_type": "markdown",
   "metadata": {},
   "source": [
    "## Script to split dataset into train/valid/test parts"
   ]
  },
  {
   "cell_type": "code",
   "execution_count": null,
   "metadata": {},
   "outputs": [],
   "source": [
    "# print working directory\n",
    "import os\n",
    "import sys\n",
    "sys.path.append(os.path.abspath(os.path.join(os.getcwd(), \"..\")))\n",
    "from utils import data_utils,config_utils\n",
    "from global_constants import gt_column_name,colname_in_pred\n",
    "import pandas as pd"
   ]
  },
  {
   "cell_type": "code",
   "execution_count": null,
   "metadata": {},
   "outputs": [],
   "source": [
    "config_file  = '../../config_files/experiments/breast_test/unimodal/config_UNI_Least_confidence_sampling_foundational_model_diversity_norm_im_0_norm_ge_0_ICF_0.json'\n",
    "my_config = config_utils.read_config_from_user_file(config_file)"
   ]
  },
  {
   "cell_type": "markdown",
   "metadata": {},
   "source": [
    "### Column Name Standardization\n",
    "\n",
    "Since the framework consistently refers to the column gt_column (e.g. `Pathologist Annotations`), it is important to ensure that this naming is uniform across all inputs.\n",
    "\n",
    "In this first iteration, we explicitly rename the column provided by the pathologist to align with the expected format.  \n",
    "To preserve the original data, the unmodified annotations will be saved in a backup file.\n",
    "\n"
   ]
  },
  {
   "cell_type": "code",
   "execution_count": 3,
   "metadata": {},
   "outputs": [
    {
     "name": "stdout",
     "output_type": "stream",
     "text": [
      "Column name Pathologist Annotations is already Pathologist Annotations, no changes made.\n"
     ]
    }
   ],
   "source": [
    "# read into dataframe\n",
    "df = pd.read_csv(my_config[\"original_annotations_test_only\"])\n",
    "\n",
    "columns = df.columns.tolist() \n",
    "# second column is Pathologists annotation\n",
    "column_name_for_rename = columns[1] if len(columns) > 1 else None\n",
    "\n",
    "if column_name_for_rename is None:\n",
    "    print(\"Pathologists annotation column not found in original_annotations_test_only file.\")\n",
    "    os._exit(1)\n",
    "\n",
    "if column_name_for_rename != gt_column_name:\n",
    "    \n",
    "    backup_file = my_config[\"original_annotations_test_only\"].replace(\".csv\", \"_backup.csv\")\n",
    "    df.to_csv(backup_file, index=False)  # make a backup of the original file\n",
    "    # rename the column\n",
    "    df = df.rename(columns={column_name_for_rename: gt_column_name})\n",
    "    df.to_csv(my_config[\"original_annotations_test_only\"], index=False)  # save the modified dataframe\n",
    "    print(f\"Column name {column_name_for_rename} was renamed to {gt_column_name}\")\n",
    "else:\n",
    "    print(f\"Column name {column_name_for_rename} is already {gt_column_name}, no changes made.\")\n",
    "\n"
   ]
  },
  {
   "cell_type": "code",
   "execution_count": null,
   "metadata": {},
   "outputs": [],
   "source": [
    "\n",
    "original_data,_,_ = data_utils.load_Loupe_annotations(csv_file_path=my_config[\"original_annotations_test_only\"], \n",
    "                                                 patch_dir=None,\n",
    "                                                 calculate_class_weights=False)"
   ]
  },
  {
   "cell_type": "code",
   "execution_count": 7,
   "metadata": {},
   "outputs": [
    {
     "name": "stdout",
     "output_type": "stream",
     "text": [
      "Class distribution in original data:\n",
      "--------------------------------------------------\n",
      "                                     Barcode\n",
      "Pathologist Annotations                     \n",
      "Adipose tissue                           874\n",
      "Duct_non neoplastic                        7\n",
      "Necrosis                                  49\n",
      "atypical ductal hyperplasia                4\n",
      "exclude                                   54\n",
      "stroma1_immune cell&vessel enriched      667\n",
      "stroma2_mod cell_collagen low            253\n",
      "stroma3_cell low_collagen mod/high       843\n",
      "stroma4_cell low_collagen high           875\n",
      "tumor1&2_DCIS                            408\n",
      "tumor3_invasive&stroma                   958\n",
      "4992\n",
      "--------------------------------------------------\n",
      "Total number of classes:  11\n",
      "Classes:  ['stroma4_cell low_collagen high' 'stroma3_cell low_collagen mod/high'\n",
      " 'stroma2_mod cell_collagen low' 'stroma1_immune cell&vessel enriched'\n",
      " 'tumor3_invasive&stroma' 'Adipose tissue' 'exclude' 'tumor1&2_DCIS'\n",
      " 'Necrosis' 'Duct_non neoplastic' 'atypical ductal hyperplasia']\n",
      "--------------------------------------------------\n",
      "Total number of patches:  4992\n"
     ]
    }
   ],
   "source": [
    "print(\"Class distribution in original data:\")\n",
    "print('-'*50)\n",
    "print(original_data.groupby(gt_column_name).count())\n",
    "print(original_data[gt_column_name].shape[0])\n",
    "print('-'*50)\n",
    "print(\"Total number of classes: \", len(original_data[gt_column_name].unique()))\n",
    "print(\"Classes: \", original_data[gt_column_name].unique())\n",
    "print('-'*50)\n",
    "print(\"Total number of patches: \", original_data.shape[0])"
   ]
  },
  {
   "cell_type": "markdown",
   "metadata": {},
   "source": [
    "### Test data split"
   ]
  },
  {
   "cell_type": "code",
   "execution_count": 8,
   "metadata": {},
   "outputs": [
    {
     "name": "stdout",
     "output_type": "stream",
     "text": [
      "Test data\n",
      "                                     Barcode\n",
      "Pathologist Annotations                     \n",
      "Adipose tissue                            88\n",
      "Duct_non neoplastic                        1\n",
      "Necrosis                                   5\n",
      "atypical ductal hyperplasia                1\n",
      "exclude                                    6\n",
      "stroma1_immune cell&vessel enriched       67\n",
      "stroma2_mod cell_collagen low             26\n",
      "stroma3_cell low_collagen mod/high        85\n",
      "stroma4_cell low_collagen high            88\n",
      "tumor1&2_DCIS                             41\n",
      "tumor3_invasive&stroma                    96\n",
      "Total number of patches: 504\n"
     ]
    }
   ],
   "source": [
    "_, my_test_data= data_utils.split_annotations_train_val(original_data,valid_proportion = my_config[\"test_split\"])\n",
    "\n",
    "print('Test data')\n",
    "print((my_test_data.groupby(gt_column_name)).count())\n",
    "print('Total number of patches:', my_test_data.shape[0])\n",
    "\n",
    "# check if test set contains all classes\n",
    "unique_classes = original_data[gt_column_name].unique()\n",
    "# get unique classes in test set\n",
    "unique_classes_test = my_test_data[gt_column_name].unique()\n",
    "# check if all classes are present in test set\n",
    "for class_name in unique_classes:\n",
    "    if class_name not in unique_classes_test:\n",
    "        raise ValueError('Class {} is not present in test set'.format(class_name))\n",
    "        \n",
    "\n"
   ]
  },
  {
   "cell_type": "markdown",
   "metadata": {},
   "source": [
    "Remove test data from the rest"
   ]
  },
  {
   "cell_type": "code",
   "execution_count": 9,
   "metadata": {},
   "outputs": [
    {
     "name": "stdout",
     "output_type": "stream",
     "text": [
      "                                     Barcode\n",
      "Pathologist Annotations                     \n",
      "Adipose tissue                           874\n",
      "Duct_non neoplastic                        7\n",
      "Necrosis                                  49\n",
      "atypical ductal hyperplasia                4\n",
      "exclude                                   54\n",
      "stroma1_immune cell&vessel enriched      667\n",
      "stroma2_mod cell_collagen low            253\n",
      "stroma3_cell low_collagen mod/high       843\n",
      "stroma4_cell low_collagen high           875\n",
      "tumor1&2_DCIS                            408\n",
      "tumor3_invasive&stroma                   958\n",
      "Total number of patches: 4992\n",
      "                                     Barcode\n",
      "Pathologist Annotations                     \n",
      "Adipose tissue                           786\n",
      "Duct_non neoplastic                        6\n",
      "Necrosis                                  44\n",
      "atypical ductal hyperplasia                3\n",
      "exclude                                   48\n",
      "stroma1_immune cell&vessel enriched      600\n",
      "stroma2_mod cell_collagen low            227\n",
      "stroma3_cell low_collagen mod/high       758\n",
      "stroma4_cell low_collagen high           787\n",
      "tumor1&2_DCIS                            367\n",
      "tumor3_invasive&stroma                   862\n",
      "Total number of patches: 4488\n"
     ]
    }
   ],
   "source": [
    "# print the number per class in the original data\n",
    "print(original_data.groupby(gt_column_name).count())\n",
    "print('Total number of patches:', original_data.shape[0])\n",
    "# remove test data from original data\n",
    "original_data_without_test = original_data[~original_data['Barcode'].isin(my_test_data['Barcode'])]\n",
    "print(original_data_without_test.groupby(gt_column_name).count())\n",
    "print('Total number of patches:', original_data_without_test.shape[0])\n"
   ]
  },
  {
   "cell_type": "markdown",
   "metadata": {},
   "source": [
    "Save test & remaining train data"
   ]
  },
  {
   "cell_type": "code",
   "execution_count": 10,
   "metadata": {},
   "outputs": [
    {
     "data": {
      "text/html": [
       "<div>\n",
       "<style scoped>\n",
       "    .dataframe tbody tr th:only-of-type {\n",
       "        vertical-align: middle;\n",
       "    }\n",
       "\n",
       "    .dataframe tbody tr th {\n",
       "        vertical-align: top;\n",
       "    }\n",
       "\n",
       "    .dataframe thead th {\n",
       "        text-align: right;\n",
       "    }\n",
       "</style>\n",
       "<table border=\"1\" class=\"dataframe\">\n",
       "  <thead>\n",
       "    <tr style=\"text-align: right;\">\n",
       "      <th></th>\n",
       "      <th>Barcode</th>\n",
       "      <th>Pathologist Annotations</th>\n",
       "    </tr>\n",
       "  </thead>\n",
       "  <tbody>\n",
       "    <tr>\n",
       "      <th>0</th>\n",
       "      <td>AACACCTACTATCGAA-1</td>\n",
       "      <td>stroma4_cell low_collagen high</td>\n",
       "    </tr>\n",
       "    <tr>\n",
       "      <th>1</th>\n",
       "      <td>AACACGTGCATCGCAC-1</td>\n",
       "      <td>stroma3_cell low_collagen mod/high</td>\n",
       "    </tr>\n",
       "    <tr>\n",
       "      <th>3</th>\n",
       "      <td>AACAGGAAGAGCATAG-1</td>\n",
       "      <td>stroma3_cell low_collagen mod/high</td>\n",
       "    </tr>\n",
       "    <tr>\n",
       "      <th>4</th>\n",
       "      <td>AACAGGATTCATAGTT-1</td>\n",
       "      <td>stroma3_cell low_collagen mod/high</td>\n",
       "    </tr>\n",
       "    <tr>\n",
       "      <th>6</th>\n",
       "      <td>AACAGGTTATTGCACC-1</td>\n",
       "      <td>stroma1_immune cell&amp;vessel enriched</td>\n",
       "    </tr>\n",
       "    <tr>\n",
       "      <th>...</th>\n",
       "      <td>...</td>\n",
       "      <td>...</td>\n",
       "    </tr>\n",
       "    <tr>\n",
       "      <th>4987</th>\n",
       "      <td>TGTTGGAACGAGGTCA-1</td>\n",
       "      <td>stroma4_cell low_collagen high</td>\n",
       "    </tr>\n",
       "    <tr>\n",
       "      <th>4988</th>\n",
       "      <td>TGTTGGAAGCTCGGTA-1</td>\n",
       "      <td>stroma1_immune cell&amp;vessel enriched</td>\n",
       "    </tr>\n",
       "    <tr>\n",
       "      <th>4989</th>\n",
       "      <td>TGTTGGATGGACTTCT-1</td>\n",
       "      <td>tumor3_invasive&amp;stroma</td>\n",
       "    </tr>\n",
       "    <tr>\n",
       "      <th>4990</th>\n",
       "      <td>TGTTGGCCAGACCTAC-1</td>\n",
       "      <td>stroma3_cell low_collagen mod/high</td>\n",
       "    </tr>\n",
       "    <tr>\n",
       "      <th>4991</th>\n",
       "      <td>TGTTGGCCTACACGTG-1</td>\n",
       "      <td>stroma4_cell low_collagen high</td>\n",
       "    </tr>\n",
       "  </tbody>\n",
       "</table>\n",
       "<p>4488 rows × 2 columns</p>\n",
       "</div>"
      ],
      "text/plain": [
       "                 Barcode              Pathologist Annotations\n",
       "0     AACACCTACTATCGAA-1       stroma4_cell low_collagen high\n",
       "1     AACACGTGCATCGCAC-1   stroma3_cell low_collagen mod/high\n",
       "3     AACAGGAAGAGCATAG-1   stroma3_cell low_collagen mod/high\n",
       "4     AACAGGATTCATAGTT-1   stroma3_cell low_collagen mod/high\n",
       "6     AACAGGTTATTGCACC-1  stroma1_immune cell&vessel enriched\n",
       "...                  ...                                  ...\n",
       "4987  TGTTGGAACGAGGTCA-1       stroma4_cell low_collagen high\n",
       "4988  TGTTGGAAGCTCGGTA-1  stroma1_immune cell&vessel enriched\n",
       "4989  TGTTGGATGGACTTCT-1               tumor3_invasive&stroma\n",
       "4990  TGTTGGCCAGACCTAC-1   stroma3_cell low_collagen mod/high\n",
       "4991  TGTTGGCCTACACGTG-1       stroma4_cell low_collagen high\n",
       "\n",
       "[4488 rows x 2 columns]"
      ]
     },
     "execution_count": 10,
     "metadata": {},
     "output_type": "execute_result"
    }
   ],
   "source": [
    "original_data_without_test"
   ]
  },
  {
   "cell_type": "code",
   "execution_count": 11,
   "metadata": {},
   "outputs": [],
   "source": [
    "# save the original data without test data \n",
    "original_data_without_test.to_csv(my_config[\"train_data\"], index=False)\n",
    "# save the test data\n",
    "my_test_data.to_csv(my_config[\"test_data\"], index=False)\n",
    "\n"
   ]
  },
  {
   "cell_type": "code",
   "execution_count": 12,
   "metadata": {},
   "outputs": [],
   "source": [
    "# delete variables\n",
    "del original_data\n",
    "del my_test_data\n",
    "del original_data_without_test\n"
   ]
  },
  {
   "cell_type": "markdown",
   "metadata": {},
   "source": [
    "### Validation data spilt"
   ]
  },
  {
   "cell_type": "code",
   "execution_count": null,
   "metadata": {},
   "outputs": [],
   "source": [
    "original_data,_,_ = data_utils.load_Loupe_annotations(csv_file_path=my_config[\"train_data\"], \n",
    "                                                 patch_dir=None,\n",
    "                                                 calculate_class_weights=False)\n",
    "\n",
    "_,my_val_data = data_utils.split_annotations_train_val(original_data,valid_proportion = my_config[\"valid_split\"])\n",
    "print('Validation data')\n",
    "print((my_val_data.groupby(gt_column_name)).count())\n",
    "print('Total number of patches:', my_val_data.shape[0])\n"
   ]
  },
  {
   "cell_type": "code",
   "execution_count": 16,
   "metadata": {},
   "outputs": [
    {
     "data": {
      "text/html": [
       "<div>\n",
       "<style scoped>\n",
       "    .dataframe tbody tr th:only-of-type {\n",
       "        vertical-align: middle;\n",
       "    }\n",
       "\n",
       "    .dataframe tbody tr th {\n",
       "        vertical-align: top;\n",
       "    }\n",
       "\n",
       "    .dataframe thead th {\n",
       "        text-align: right;\n",
       "    }\n",
       "</style>\n",
       "<table border=\"1\" class=\"dataframe\">\n",
       "  <thead>\n",
       "    <tr style=\"text-align: right;\">\n",
       "      <th></th>\n",
       "      <th>Barcode</th>\n",
       "      <th>Pathologist Annotations</th>\n",
       "    </tr>\n",
       "  </thead>\n",
       "  <tbody>\n",
       "    <tr>\n",
       "      <th>0</th>\n",
       "      <td>AACACCTACTATCGAA-1</td>\n",
       "      <td>stroma4_cell low_collagen high</td>\n",
       "    </tr>\n",
       "    <tr>\n",
       "      <th>1</th>\n",
       "      <td>AACACGTGCATCGCAC-1</td>\n",
       "      <td>stroma3_cell low_collagen mod/high</td>\n",
       "    </tr>\n",
       "    <tr>\n",
       "      <th>2</th>\n",
       "      <td>AACAGGAAGAGCATAG-1</td>\n",
       "      <td>stroma3_cell low_collagen mod/high</td>\n",
       "    </tr>\n",
       "    <tr>\n",
       "      <th>3</th>\n",
       "      <td>AACAGGATTCATAGTT-1</td>\n",
       "      <td>stroma3_cell low_collagen mod/high</td>\n",
       "    </tr>\n",
       "    <tr>\n",
       "      <th>4</th>\n",
       "      <td>AACAGGTTATTGCACC-1</td>\n",
       "      <td>stroma1_immune cell&amp;vessel enriched</td>\n",
       "    </tr>\n",
       "    <tr>\n",
       "      <th>...</th>\n",
       "      <td>...</td>\n",
       "      <td>...</td>\n",
       "    </tr>\n",
       "    <tr>\n",
       "      <th>4483</th>\n",
       "      <td>TGTTGGAACGAGGTCA-1</td>\n",
       "      <td>stroma4_cell low_collagen high</td>\n",
       "    </tr>\n",
       "    <tr>\n",
       "      <th>4484</th>\n",
       "      <td>TGTTGGAAGCTCGGTA-1</td>\n",
       "      <td>stroma1_immune cell&amp;vessel enriched</td>\n",
       "    </tr>\n",
       "    <tr>\n",
       "      <th>4485</th>\n",
       "      <td>TGTTGGATGGACTTCT-1</td>\n",
       "      <td>tumor3_invasive&amp;stroma</td>\n",
       "    </tr>\n",
       "    <tr>\n",
       "      <th>4486</th>\n",
       "      <td>TGTTGGCCAGACCTAC-1</td>\n",
       "      <td>stroma3_cell low_collagen mod/high</td>\n",
       "    </tr>\n",
       "    <tr>\n",
       "      <th>4487</th>\n",
       "      <td>TGTTGGCCTACACGTG-1</td>\n",
       "      <td>stroma4_cell low_collagen high</td>\n",
       "    </tr>\n",
       "  </tbody>\n",
       "</table>\n",
       "<p>4488 rows × 2 columns</p>\n",
       "</div>"
      ],
      "text/plain": [
       "                 Barcode              Pathologist Annotations\n",
       "0     AACACCTACTATCGAA-1       stroma4_cell low_collagen high\n",
       "1     AACACGTGCATCGCAC-1   stroma3_cell low_collagen mod/high\n",
       "2     AACAGGAAGAGCATAG-1   stroma3_cell low_collagen mod/high\n",
       "3     AACAGGATTCATAGTT-1   stroma3_cell low_collagen mod/high\n",
       "4     AACAGGTTATTGCACC-1  stroma1_immune cell&vessel enriched\n",
       "...                  ...                                  ...\n",
       "4483  TGTTGGAACGAGGTCA-1       stroma4_cell low_collagen high\n",
       "4484  TGTTGGAAGCTCGGTA-1  stroma1_immune cell&vessel enriched\n",
       "4485  TGTTGGATGGACTTCT-1               tumor3_invasive&stroma\n",
       "4486  TGTTGGCCAGACCTAC-1   stroma3_cell low_collagen mod/high\n",
       "4487  TGTTGGCCTACACGTG-1       stroma4_cell low_collagen high\n",
       "\n",
       "[4488 rows x 2 columns]"
      ]
     },
     "execution_count": 16,
     "metadata": {},
     "output_type": "execute_result"
    }
   ],
   "source": [
    "original_data"
   ]
  },
  {
   "cell_type": "code",
   "execution_count": 17,
   "metadata": {},
   "outputs": [],
   "source": [
    "# check if test set contains all classes\n",
    "unique_classes = original_data[gt_column_name].unique()\n",
    "# get unique classes in test set\n",
    "unique_classes_test = my_val_data[gt_column_name].unique()\n",
    "# check if all classes are present in test set\n",
    "for class_name in unique_classes:\n",
    "    if class_name not in unique_classes_test:\n",
    "        raise ValueError('Class {} is not present in test set'.format(class_name))"
   ]
  },
  {
   "cell_type": "markdown",
   "metadata": {},
   "source": [
    "Remove valid data from the rest"
   ]
  },
  {
   "cell_type": "code",
   "execution_count": 18,
   "metadata": {},
   "outputs": [
    {
     "name": "stdout",
     "output_type": "stream",
     "text": [
      "                                     Barcode\n",
      "Pathologist Annotations                     \n",
      "Adipose tissue                           786\n",
      "Duct_non neoplastic                        6\n",
      "Necrosis                                  44\n",
      "atypical ductal hyperplasia                3\n",
      "exclude                                   48\n",
      "stroma1_immune cell&vessel enriched      600\n",
      "stroma2_mod cell_collagen low            227\n",
      "stroma3_cell low_collagen mod/high       758\n",
      "stroma4_cell low_collagen high           787\n",
      "tumor1&2_DCIS                            367\n",
      "tumor3_invasive&stroma                   862\n",
      "Total number of patches: 4488\n",
      "                                     Barcode\n",
      "Pathologist Annotations                     \n",
      "Adipose tissue                           707\n",
      "Duct_non neoplastic                        5\n",
      "Necrosis                                  39\n",
      "atypical ductal hyperplasia                2\n",
      "exclude                                   43\n",
      "stroma1_immune cell&vessel enriched      540\n",
      "stroma2_mod cell_collagen low            204\n",
      "stroma3_cell low_collagen mod/high       682\n",
      "stroma4_cell low_collagen high           708\n",
      "tumor1&2_DCIS                            330\n",
      "tumor3_invasive&stroma                   775\n",
      "Total number of patches: 4035\n"
     ]
    }
   ],
   "source": [
    "# print the number per class in the original data\n",
    "print(original_data.groupby(gt_column_name).count())\n",
    "print('Total number of patches:', original_data.shape[0])\n",
    "# remove test data from original data\n",
    "original_data_without_valid = original_data[~original_data['Barcode'].isin(my_val_data['Barcode'])]\n",
    "print(original_data_without_valid.groupby(gt_column_name).count())\n",
    "print('Total number of patches:', original_data_without_valid.shape[0])\n"
   ]
  },
  {
   "cell_type": "markdown",
   "metadata": {},
   "source": [
    "### Save validation and training data"
   ]
  },
  {
   "cell_type": "code",
   "execution_count": 19,
   "metadata": {},
   "outputs": [],
   "source": [
    "# save the original data without test data\n",
    "original_data_without_valid.to_csv(my_config[\"train_data\"], index=False)\n",
    "# save validation data\n",
    "my_val_data.to_csv(my_config[\"valid_data\"], index=False)\n"
   ]
  },
  {
   "cell_type": "code",
   "execution_count": 20,
   "metadata": {},
   "outputs": [],
   "source": [
    "# delete variables\n",
    "del original_data\n",
    "del my_val_data\n",
    "del original_data_without_valid"
   ]
  },
  {
   "cell_type": "markdown",
   "metadata": {},
   "source": [
    "## Check for overlaps between sets"
   ]
  },
  {
   "cell_type": "code",
   "execution_count": null,
   "metadata": {},
   "outputs": [],
   "source": [
    "# load train, valid and test data\n",
    "train_data,_,_ = data_utils.load_Loupe_annotations(csv_file_path=my_config[\"train_data\"],patch_dir=None, calculate_class_weights=False)\n",
    "valid_data,_,_ = data_utils.load_Loupe_annotations(csv_file_path=my_config[\"valid_data\"],patch_dir=None, calculate_class_weights=False)\n",
    "test_data,_,_ = data_utils.load_Loupe_annotations(csv_file_path=my_config[\"test_data\"],patch_dir=None, calculate_class_weights=False)"
   ]
  },
  {
   "cell_type": "code",
   "execution_count": 22,
   "metadata": {},
   "outputs": [
    {
     "name": "stdout",
     "output_type": "stream",
     "text": [
      "Overlap between train and valid: 0\n",
      "Overlap between train and test: 0\n",
      "Overlap between valid and test: 0\n"
     ]
    }
   ],
   "source": [
    "# find overlap between train, valid and test data\n",
    "train_valid_overlap = train_data[train_data['Barcode'].isin(valid_data['Barcode'])]\n",
    "train_test_overlap = train_data[train_data['Barcode'].isin(test_data['Barcode'])]\n",
    "valid_test_overlap = valid_data[valid_data['Barcode'].isin(test_data['Barcode'])]\n",
    "print('Overlap between train and valid:', train_valid_overlap.shape[0])\n",
    "print('Overlap between train and test:', train_test_overlap.shape[0])\n",
    "print('Overlap between valid and test:', valid_test_overlap.shape[0])"
   ]
  },
  {
   "cell_type": "code",
   "execution_count": 23,
   "metadata": {},
   "outputs": [],
   "source": [
    "# check if test set contains all classes\n",
    "unique_classes = train_data[gt_column_name].unique()\n",
    "# get unique classes in test set\n",
    "unique_classes_test = test_data[gt_column_name].unique()\n",
    "# check if all classes are present in test set\n",
    "for class_name in unique_classes:\n",
    "    if class_name not in unique_classes_test:\n",
    "        print('Class {} is not present in test set'.format(class_name))\n",
    "\n",
    "# check if valid set contains all classes\n",
    "unique_classes_valid = valid_data[gt_column_name].unique()\n",
    "for clss_name in unique_classes:\n",
    "    if clss_name not in unique_classes_valid:\n",
    "        print('Class {} is not present in valid set'.format(clss_name))\n",
    "\n",
    "\n",
    "    "
   ]
  }
 ],
 "metadata": {
  "kernelspec": {
   "display_name": "Python 3",
   "language": "python",
   "name": "python3"
  },
  "language_info": {
   "codemirror_mode": {
    "name": "ipython",
    "version": 3
   },
   "file_extension": ".py",
   "mimetype": "text/x-python",
   "name": "python",
   "nbconvert_exporter": "python",
   "pygments_lexer": "ipython3",
   "version": "3.9.16"
  }
 },
 "nbformat": 4,
 "nbformat_minor": 2
}
