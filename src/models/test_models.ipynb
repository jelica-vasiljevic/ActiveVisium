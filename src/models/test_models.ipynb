{
 "cells": [
  {
   "cell_type": "code",
   "execution_count": 1,
   "metadata": {},
   "outputs": [],
   "source": [
    "# add parent directory to path\n",
    "import sys\n",
    "sys.path.append('../')\n",
    "import model_utils\n",
    "import torch\n"
   ]
  },
  {
   "cell_type": "code",
   "execution_count": 41,
   "metadata": {},
   "outputs": [],
   "source": [
    "pretraind_model = 'UNI_multimodal' # 'UNI_multimodal',\"UNI\"\n",
    "multimodal = 1 if \"multimodal\" in pretraind_model else 0\n",
    "my_configs = {}\n",
    "my_configs['pretraind_model'] = pretraind_model\n",
    "my_configs['num_hidden_units'] = [128]\n",
    "my_configs['dropout'] = 0.0\n",
    "num_classes=10\n"
   ]
  },
  {
   "cell_type": "code",
   "execution_count": 42,
   "metadata": {},
   "outputs": [],
   "source": [
    "model = model_utils.init_model(my_configs = my_configs,num_classes = num_classes)\n",
    "model.create_model()"
   ]
  },
  {
   "cell_type": "code",
   "execution_count": 43,
   "metadata": {},
   "outputs": [
    {
     "name": "stdout",
     "output_type": "stream",
     "text": [
      "Morph Extractor: \n",
      "Sequential(\n",
      "  (0): Flatten(start_dim=1, end_dim=-1)\n",
      "  (1): Linear(in_features=1024, out_features=128, bias=True)\n",
      "  (2): LeakyReLU(negative_slope=0.02)\n",
      ")\n",
      "Gene Extractor: \n",
      "Sequential(\n",
      "  (0): Linear(in_features=1000, out_features=128, bias=True)\n",
      "  (1): LeakyReLU(negative_slope=0.02)\n",
      ")\n",
      "Classifier: \n",
      "Sequential(\n",
      "  (0): Linear(in_features=128, out_features=10, bias=True)\n",
      ")\n",
      "Combo Layer: \n",
      "Sequential(\n",
      "  (0): LayerNorm((256,), eps=1e-05, elementwise_affine=True)\n",
      "  (1): Linear(in_features=256, out_features=128, bias=True)\n",
      "  (2): LeakyReLU(negative_slope=0.02)\n",
      "  (3): Dropout(p=0.25, inplace=False)\n",
      ")\n"
     ]
    }
   ],
   "source": [
    "model.cuda()\n",
    "model.print_model_summary()"
   ]
  },
  {
   "cell_type": "code",
   "execution_count": 44,
   "metadata": {},
   "outputs": [
    {
     "name": "stdout",
     "output_type": "stream",
     "text": [
      "torch.Size([2, 10])\n"
     ]
    }
   ],
   "source": [
    "# make a dummy input\n",
    "\n",
    "batch_size = 2\n",
    "inp = {}\n",
    "inp['image'] = torch.randn(batch_size, model.latent_dim)\n",
    "if multimodal:\n",
    "    inp['gene_expression'] = torch.randn(batch_size, 1000)\n",
    "\n",
    "# put inp on cuda\n",
    "inp = {k: v.cuda() for k, v in inp.items()}\n",
    "\n",
    "out = model(inp)\n",
    "\n",
    "print(out.shape)"
   ]
  },
  {
   "cell_type": "code",
   "execution_count": 45,
   "metadata": {},
   "outputs": [
    {
     "name": "stdout",
     "output_type": "stream",
     "text": [
      "Morph features shape:  torch.Size([2, 128])\n",
      "Gene features shape:  torch.Size([2, 128])\n"
     ]
    }
   ],
   "source": [
    "morph_features = model.morph_extractor(inp['image'])\n",
    "print(\"Morph features shape: \", morph_features.shape)\n",
    "if hasattr(model, 'gene_extractor') and model.gene_extractor is not None:\n",
    "    gene_features = model.gene_extractor(inp['gene_expression'])\n",
    "    print(\"Gene features shape: \", gene_features.shape)\n",
    "else:\n",
    "    print(\"No gene extractor found\")\n",
    "\n",
    "if hasattr(model, 'image_extractor') and model.image_extractor is not None:\n",
    "    image_features = model.image_extractor(inp['image'])\n",
    "    print(\"Image features shape: \", image_features.shape)\n"
   ]
  },
  {
   "cell_type": "code",
   "execution_count": null,
   "metadata": {},
   "outputs": [],
   "source": []
  },
  {
   "cell_type": "code",
   "execution_count": null,
   "metadata": {},
   "outputs": [],
   "source": []
  }
 ],
 "metadata": {
  "kernelspec": {
   "display_name": "Python 3",
   "language": "python",
   "name": "python3"
  },
  "language_info": {
   "codemirror_mode": {
    "name": "ipython",
    "version": 3
   },
   "file_extension": ".py",
   "mimetype": "text/x-python",
   "name": "python",
   "nbconvert_exporter": "python",
   "pygments_lexer": "ipython3",
   "version": "3.9.16"
  }
 },
 "nbformat": 4,
 "nbformat_minor": 2
}
